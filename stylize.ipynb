{
 "cells": [
  {
   "cell_type": "code",
   "execution_count": null,
   "metadata": {
    "collapsed": true
   },
   "outputs": [],
   "source": [
    "import keras.backend as K\n",
    "import numpy as np\n",
    "from keras.applications.vgg16 import VGG16, preprocess_input\n",
    "from keras.optimizers import Adam\n",
    "from keras.preprocessing import image\n",
    "from keras.layers import Input\n",
    "from matplotlib.pyplot import imshow, show, imsave\n",
    "from time import time"
   ]
  },
  {
   "cell_type": "code",
   "execution_count": null,
   "metadata": {
    "collapsed": true
   },
   "outputs": [],
   "source": [
    "style_image = \"style/image/path\"\n",
    "content_image = \"content/image/path\""
   ]
  },
  {
   "cell_type": "code",
   "execution_count": null,
   "metadata": {
    "collapsed": true
   },
   "outputs": [],
   "source": [
    "def preprocess(image_path):\n",
    "    img = image.load_img(image_path, target_size=(600,800))\n",
    "    img = image.img_to_array(img)\n",
    "    img = preprocess_input(img)\n",
    "    img = np.expand_dims(img, axis=0)\n",
    "    return img"
   ]
  },
  {
   "cell_type": "code",
   "execution_count": null,
   "metadata": {
    "collapsed": true
   },
   "outputs": [],
   "source": [
    "def deprocess_image(x):\n",
    "    x = x[0]\n",
    "    x[:, :, 0] += 103.939\n",
    "    x[:, :, 1] += 116.779\n",
    "    x[:, :, 2] += 123.68\n",
    "    x = x[:, :, ::-1]\n",
    "    x = np.clip(x, 0, 255).astype('uint8')\n",
    "    return x"
   ]
  },
  {
   "cell_type": "code",
   "execution_count": null,
   "metadata": {
    "collapsed": true
   },
   "outputs": [],
   "source": [
    "style_image=preprocess(style_image)\n",
    "content_image = preprocess(content_image)"
   ]
  },
  {
   "cell_type": "code",
   "execution_count": null,
   "metadata": {
    "collapsed": true
   },
   "outputs": [],
   "source": [
    "gen_image = K.variable(np.random.randn(1,600,800,3))"
   ]
  },
  {
   "cell_type": "code",
   "execution_count": null,
   "metadata": {},
   "outputs": [],
   "source": [
    "print(\"style_image \",style_image.shape)\n",
    "print(\"content_image \",content_image.shape)\n",
    "print(\"gen_image \",gen_image.shape)"
   ]
  },
  {
   "cell_type": "code",
   "execution_count": null,
   "metadata": {
    "collapsed": true
   },
   "outputs": [],
   "source": [
    "style_layers = [1,4,7,11]\n",
    "content_layers = [12]"
   ]
  },
  {
   "cell_type": "code",
   "execution_count": null,
   "metadata": {},
   "outputs": [],
   "source": [
    "model = VGG16(include_top=False, weights='imagenet', input_tensor=Input(tensor=gen_image))\n",
    "model.summary()"
   ]
  },
  {
   "cell_type": "code",
   "execution_count": null,
   "metadata": {
    "collapsed": true
   },
   "outputs": [],
   "source": [
    "style_features = []\n",
    "for layer in style_layers:\n",
    "    fn = K.function([model.layers[0].input], [model.layers[layer].output])\n",
    "    style_features.append(fn([style_image])[0])"
   ]
  },
  {
   "cell_type": "code",
   "execution_count": null,
   "metadata": {
    "collapsed": true
   },
   "outputs": [],
   "source": [
    "content_features = []\n",
    "for layer in content_layers:\n",
    "    fn = K.function([model.layers[0].input], [model.layers[layer].output])\n",
    "    content_features.append(fn([content_image])[0])    "
   ]
  },
  {
   "cell_type": "code",
   "execution_count": null,
   "metadata": {},
   "outputs": [],
   "source": [
    "for _ in style_features:\n",
    "    print(_.shape)"
   ]
  },
  {
   "cell_type": "code",
   "execution_count": null,
   "metadata": {},
   "outputs": [],
   "source": [
    "content_features[0].shape"
   ]
  },
  {
   "cell_type": "code",
   "execution_count": null,
   "metadata": {},
   "outputs": [],
   "source": [
    "m, w, h, c = a_C.shape()\n",
    "a_C_unrolled = K.reshape(content_features[0], (-1,w*h,c))\n",
    "del content_features\n",
    "print(\"a_C_unrolled \", a_C_unrolled.shape)"
   ]
  },
  {
   "cell_type": "code",
   "execution_count": null,
   "metadata": {
    "collapsed": true
   },
   "outputs": [],
   "source": [
    "def gram_matrix(A):\n",
    "    return K.dot(A, K.transpose(A))"
   ]
  },
  {
   "cell_type": "code",
   "execution_count": null,
   "metadata": {
    "collapsed": true
   },
   "outputs": [],
   "source": [
    "def content_cost():\n",
    "    J_content = K.variable(0.)\n",
    "    \n",
    "    a_G = model.layers[12].output\n",
    "    m, n_H, n_W, n_C = a_G.get_shape().as_list()\n",
    "    a_G_unrolled = K.reshape(a_G,(-1, n_H*n_W, n_C))\n",
    "    \n",
    "    J_content = (1/(4*n_H*n_W*n_C))*K.sum(K.square(a_C_unrolled-a_G_unrolled))\n",
    "    return J_content"
   ]
  },
  {
   "cell_type": "code",
   "execution_count": null,
   "metadata": {
    "collapsed": true
   },
   "outputs": [],
   "source": [
    "def compute_layer_style_cost(a_S, a_G):\n",
    "    \n",
    "    J_style_layer = K.variable(0.)\n",
    "    m, n_H, n_W, n_C = a_G.get_shape().as_list()\n",
    "   \n",
    "    a_S = K.transpose(K.reshape(a_S, (n_H*n_W,n_C)))\n",
    "    a_G = K.transpose(K.reshape(a_G, (n_H*n_W,n_C)))\n",
    "\n",
    "    GS = gram_matrix(a_S)\n",
    "    GG = gram_matrix(a_G)\n",
    "\n",
    "\n",
    "    J_style_layer = K.square(1/(2*n_C*n_H*n_W))*K.sum(K.sum(K.square(GS-GG)))\n",
    "    \n",
    "    return J_style_layer"
   ]
  },
  {
   "cell_type": "code",
   "execution_count": null,
   "metadata": {
    "collapsed": true
   },
   "outputs": [],
   "source": [
    "def compute_style_cost(model=model, STYLE_LAYERS=style_layers):\n",
    "    \n",
    "    J_style = K.variable(0.)\n",
    "    i=0\n",
    "\n",
    "    for layer in STYLE_LAYERS:\n",
    "        \n",
    "        a_G = model.layers[layer].output\n",
    "\n",
    "        J_style_layer = compute_layer_style_cost(style_features[i], a_G)\n",
    "\n",
    "        J_style += 0.25 * J_style_layer\n",
    "        i+=1\n",
    "\n",
    "    return J_style"
   ]
  },
  {
   "cell_type": "code",
   "execution_count": null,
   "metadata": {
    "collapsed": true
   },
   "outputs": [],
   "source": [
    "def total_cost(alpha = 1000, beta = 4):\n",
    "\n",
    "    J = K.variable(0.)\n",
    "    J = (alpha*content_cost()+beta*compute_style_cost())\n",
    "    \n",
    "    return J"
   ]
  },
  {
   "cell_type": "code",
   "execution_count": null,
   "metadata": {},
   "outputs": [],
   "source": [
    "total_loss = total_cost()"
   ]
  },
  {
   "cell_type": "code",
   "execution_count": null,
   "metadata": {},
   "outputs": [],
   "source": [
    "total_loss"
   ]
  },
  {
   "cell_type": "code",
   "execution_count": null,
   "metadata": {},
   "outputs": [],
   "source": [
    "gen_image"
   ]
  },
  {
   "cell_type": "code",
   "execution_count": null,
   "metadata": {
    "scrolled": false
   },
   "outputs": [],
   "source": [
    "\n",
    "opt = Adam(lr=2.5)\n",
    "updates = opt.get_updates([gen_image],[],total_loss)\n",
    "train = K.function([],[total_loss],updates)\n",
    "print(\"Training Step defined.\")\n",
    "start = time()\n",
    "for epoch in range(500):\n",
    "    e_start = time()\n",
    "    out = train([])\n",
    "    e_end = time()\n",
    "    print(\"Epoch: {}, Loss: {:.2e}, Style Loss: {:.2e}, Content Loss: {:.2e}, Time taken per Step: {:.2f}\".format(epoch, out[0],out[1],out[2], e_end-e_start))\n",
    "    if(epoch%20==0):\n",
    "        imshow(deprocess_image(K.get_value(gen_image)))\n",
    "        show()\n",
    "        print(\"ETA: {}\".format((e_end-start)*(500-epoch)/(epoch+1)))"
   ]
  }
 ],
 "metadata": {
  "kernelspec": {
   "display_name": "Python 3",
   "language": "python",
   "name": "python3"
  },
  "language_info": {
   "codemirror_mode": {
    "name": "ipython",
    "version": 3
   },
   "file_extension": ".py",
   "mimetype": "text/x-python",
   "name": "python",
   "nbconvert_exporter": "python",
   "pygments_lexer": "ipython3",
   "version": "3.6.3"
  }
 },
 "nbformat": 4,
 "nbformat_minor": 2
}
